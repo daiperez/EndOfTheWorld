{
 "cells": [
  {
   "cell_type": "code",
   "execution_count": 1,
   "metadata": {},
   "outputs": [],
   "source": [
    "import numpy as np\n",
    "from matplotlib import pyplot as plt \n"
   ]
  },
  {
   "cell_type": "code",
   "execution_count": 3,
   "metadata": {},
   "outputs": [
    {
     "data": {
      "text/plain": [
       "\"\\nSIR Zombie Model aka Zombie Apocalypse Model\\n\\ns'(t) = h - beta*s*z - delta(s)*s\\nI'(t) = beta*s*z - ro*I - delta(I)*I\\nZ'(t) = ro*I -  alpha*s*z\\nD'(t) = delta(s)*s + delta(I)*I + alpha*s*z\\n    \\n    \\ns'(t): takes into account those who are suseptible to get infected with the zombie virus\\n    h : number of humans we begin with\\n    beta*s*z : Those infected with zombie virus\\n    delta(s)*s : Those who are dead/killed\\n    \\n    \\nI'(t): Takes into account those are infected\\n    ro*I : Number of infected rate\\n    beta*s*z : Those infected with zombie virus\\n    delta(I)*I : When people are killed/dead\\n     \\n    \\nZ'(t): Takes into account those are NOW zombies\\n    ro*I : Number of infected rate\\n    alpha*s*z : human and zombie interaction. Humans killing zombies\\n    \\n    \\nD'(t): Those who are dead\\n    delta(s)*s : Those who are dead/killed\\n    delta(I)*I : When people are killed/dead\\n    alpha*s*z : human and zombie interaction. Humans killing zombies\\n    \\n\""
      ]
     },
     "execution_count": 3,
     "metadata": {},
     "output_type": "execute_result"
    }
   ],
   "source": [
    "        \"\"\"\n",
    "        SIR Zombie Model aka Zombie Apocalypse Model\n",
    "\n",
    "        s'(t) = h - beta*s*z - delta(s)*s\n",
    "        I'(t) = beta*s*z - ro*I - delta(I)*I\n",
    "        Z'(t) = ro*I -  alpha*s*z\n",
    "        D'(t) = delta(s)*s + delta(I)*I + alpha*s*z\n",
    "    \n",
    "    \n",
    "        s'(t): takes into account those who are suseptible to get infected with the zombie virus\n",
    "            h : number of humans we begin with\n",
    "            beta*s*z : Those infected with zombie virus\n",
    "            delta(s)*s : Those who are dead/killed\n",
    "            \n",
    "            \n",
    "        I'(t): Takes into account those are infected\n",
    "            ro*I : Number of infected rate\n",
    "            beta*s*z : Those infected with zombie virus\n",
    "            delta(I)*I : When people are killed/dead\n",
    "             \n",
    "    \n",
    "        Z'(t): Takes into account those are NOW zombies\n",
    "            ro*I : Number of infected rate\n",
    "            alpha*s*z : human and zombie interaction. Humans killing zombies\n",
    "            \n",
    "            \n",
    "        D'(t): Those who are dead\n",
    "            delta(s)*s : Those who are dead/killed\n",
    "            delta(I)*I : When people are killed/dead\n",
    "            alpha*s*z : human and zombie interaction. Humans killing zombies\n",
    "    \n",
    "        \"\"\"\n",
    "    "
   ]
  },
  {
   "cell_type": "code",
   "execution_count": 22,
   "metadata": {},
   "outputs": [],
   "source": [
    "def solve(f,y0,interval,steps,order):\n",
    "    \"\"\" Solve ODE by Euler or Runge-Kutta methods, with fixed number\n",
    "    of steps.\n",
    "\n",
    "    In contrast to the examples of Newman Chapter 8, which build up a\n",
    "    list, point by point, \n",
    "    \n",
    "    f: function giving ODE as y'=f(x,y)\n",
    "    y0: initial value\n",
    "    interval: tuple region (a,b) on which to solve ODE\n",
    "    steps: number of steps\n",
    "    order: order of solution method (1 for Euler, 2 or 4 for Runge-Kutta)\n",
    "    \n",
    "    Returns (x,y) points, as (steps+1)x2 numpy array.\n",
    "    \"\"\"\n",
    "    (a,b)=interval\n",
    "    temp = 0\n",
    "    h=(b - a) / float(steps)\n",
    "    x=y0\n",
    "    tpoints= np.arange(a, b, h)\n",
    "    spoints = []\n",
    "    ipoints = []\n",
    "    zpoints = []\n",
    "    dpoints = []\n",
    "    \n",
    "    if (order== 1):\n",
    "        #Using Euler's method\n",
    "        for t in (tpoints):\n",
    "            xpoints.append(x)\n",
    "            x += h * f(x, t)\n",
    "        func = (tpoints, xpoints)\n",
    "    if (order == 2):\n",
    "        for t in (tpoints):\n",
    "            xpoints.append(x)\n",
    "            k1 = h* f(x,t)\n",
    "            k2 = h* f(x+0.5*k1, t+0.5*h)\n",
    "            x+= k2\n",
    "        func = (tpoints, xpoints)\n",
    "    if (order == 4):\n",
    "        for t in tpoints:\n",
    "            spoints.append(x[0])\n",
    "            ipoints.append(x[1])\n",
    "            zpoints.append(x[2])\n",
    "            dpoints.append(x[3])\n",
    "            k1 = h*f(x,t)\n",
    "            k2 = h*f(x+0.5*k1,t+0.5*h)\n",
    "            k3 = h*f(x+0.5*k2,t+0.5*h)\n",
    "            k4 = h*f(x+k3,t+h)\n",
    "            x += (k1+2*k2+2*k3+k4)/6\n",
    "        plt.figure()\n",
    "        plt.plot(tpoints, spoints, color='b', label='Living')\n",
    "        plt.plot(tpoints, ipoints, color='r', label='Infected')\n",
    "        plt.plot(tpoints, zpoints, color='g', label='Zombies')\n",
    "        plt.plot(tpoints, dpoints, color='k', label='Dead')\n",
    "    return ()\n"
   ]
  },
  {
   "cell_type": "code",
   "execution_count": 25,
   "metadata": {},
   "outputs": [
    {
     "data": {
      "text/plain": [
       "()"
      ]
     },
     "execution_count": 25,
     "metadata": {},
     "output_type": "execute_result"
    },
    {
     "data": {
      "image/png": "[encoded data removed]",
      "text/plain": [
       "<Figure size 432x288 with 1 Axes>"
      ]
     },
     "metadata": {
      "needs_background": "light"
     },
     "output_type": "display_data"
    }
   ],
   "source": [
    "\n",
    "#desclare rage\n",
    "interval= [0,10]\n",
    "steps= 1000\n",
    "\n",
    "h=0          #rate at which people coming into the area/birth rate\n",
    "d= 40      #death rate\n",
    "beta= 0   #transmission rate\n",
    "ro =0     #percent of those who are infected become zombies\n",
    "alpha= 0\n",
    "\n",
    "\n",
    "def f(y, t, *args):\n",
    "    #initialize\n",
    "    Si=y[0]\n",
    "    Ii=y[1]\n",
    "    Zi=y[2]\n",
    "    Di=y[3]\n",
    "\n",
    "    f0= h - beta*Si*Zi - d*Si \n",
    "    f1= beta*Si*Zi - ro*Ii - d*Ii\n",
    "    f2= ro*Ii - alpha*Si*Zi\n",
    "    f3= d*Si + d*Ii + alpha*Si*Zi\n",
    "    \n",
    "    return np.array([f0, f1, f2, f3], float)\n",
    "\n",
    "#initial conditions\n",
    "S0 = 20.     #initial Population\n",
    "I0=0.         #Initial infected population\n",
    "Z0=0.         #initial zombie population\n",
    "D0=0.         #Initial deaths\n",
    "\n",
    "y0=[S0, I0, Z0, D0]\n",
    "\n",
    "solve(f, y0, interval, steps, order=4)\n",
    "#S= solution[:, 0]\n",
    "#I= solution[:, 1]\n",
    "#Z= solution[:, 2]\n",
    "#D= solution[:, 3]\n",
    "\n",
    "#plt.figure()\n",
    "#plt.plot(S, label='Living')\n",
    "#plt.plot(Z, label='Zombies')\n"
   ]
  },
  {
   "cell_type": "code",
   "execution_count": 7,
   "metadata": {},
   "outputs": [],
   "source": []
  },
  {
   "cell_type": "code",
   "execution_count": null,
   "metadata": {},
   "outputs": [],
   "source": []
  }
 ],
 "metadata": {
  "kernelspec": {
   "display_name": "Python 3",
   "language": "python",
   "name": "python3"
  },
  "language_info": {
   "codemirror_mode": {
    "name": "ipython",
    "version": 3
   },
   "file_extension": ".py",
   "mimetype": "text/x-python",
   "name": "python",
   "nbconvert_exporter": "python",
   "pygments_lexer": "ipython3",
   "version": "3.7.4"
  }
 },
 "nbformat": 4,
 "nbformat_minor": 2
}
