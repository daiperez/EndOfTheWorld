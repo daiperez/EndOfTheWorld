{
 "cells": [
  {
   "cell_type": "markdown",
   "metadata": {},
   "source": [
    "Prospectus\n",
    "\n",
    "Working Title\n",
    "We’re all going to die man! Maybe. Modeling the transmission of a zombie apocalypse with the SIR model for spread of infectious disease.\n",
    "\n",
    "Topic and Background\n",
    "The idea of the zombie originated as early as 1791 in Haiti and has since become a staple genre in Hollywood[1][5] and video gaming. These zombies are mindless, hungry, and ruthless.  The idea of the end of the world has infatuated humanity for hundreds of years, but what is the chance of surviving in a zombie apocalypse? What parameters can be tweaked to optimize survival rate?\n",
    "In this project we aim to model the spread of the zombie apocalypse using the differential equations used in the SIR model [2] for spread of infectious diseases.  The model will be adjusted to incorporate a 0-recovery rate for the infected individuals, and include new parameters to observe the changes induced by different population density [4].\n",
    "\n",
    "Questions (Physics, engineering, complexity)\n",
    "What is the population density threshold that allows for realistic successful survival rate?\n",
    "What is the probability of surviving a zombie apocalypse given different sets of survival parameters?\n",
    "\n",
    "Numerical Methods\n",
    "For this project we will be using a modified version of the 4th order Runge-Kutta ODE solver found in the solve function that was created for weekly session 9[3]. The 4th order Runge-Kutta methods estimate solutions for ODEs via many iterations of calculations involving the slope of the equation. The ODE solver we will be using was created in week 9. \n",
    "\n",
    "Personal Investment\n",
    "We chose this project due to the current world events surrounding Covid-19. The response to the 2020 pandemic has shown that it is important to model the way that infection spreads, including the effects of slowing down transmission via quarantines. \n",
    "\n",
    "\n",
    "\n"
   ]
  },
  {
   "cell_type": "markdown",
   "metadata": {},
   "source": [
    "4/27/2020 Update\n",
    "\n",
    "Our functions come from the SIR model for infectious disease, and have been modified slightly to account for the combined number of dead humans and zombies. The ODEs utilize parameters such as the infection rate, zombie death rate, initial population sizes, etc, to calculate the spread of the infection. We are also working on a way to implement more parameters such as speed of zombie and transmission rate that can be conditionally called. These will be modifiers on variables of change, for example dS would be modified by a transmission rate constant. \n",
    "\n",
    "An ODE solver will be used to solve these differential equations, generating graphs to display how the human race did given a specific set of parameters. The boundary for this set of functions is either side winning, zombies or humans wipe the other out. There will be scenarios outlined with different time variables, where the zombie is introduced to different areas.\n"
   ]
  },
  {
   "cell_type": "markdown",
   "metadata": {},
   "source": [
    "References\n",
    "[1] http://www.bbc.com/culture/story/20150828-where-do-zombies-come-from\" \n",
    "[2] https://www.maa.org/press/periodicals/loci/joma/the-sir-model-for-spread-of-disease-the-differential-equation-model\n",
    "[3] http://www-personal.umich.edu/~mejn/cp/\n",
    "[4] https://arxiv.org/pdf/1802.10443.pdf\n",
    "[5] https://www.history.com/topics/folklore/history-of-zombies\n"
   ]
  },
  {
   "cell_type": "code",
   "execution_count": null,
   "metadata": {},
   "outputs": [],
   "source": []
  }
 ],
 "metadata": {
  "kernelspec": {
   "display_name": "Python 3",
   "language": "python",
   "name": "python3"
  },
  "language_info": {
   "codemirror_mode": {
    "name": "ipython",
    "version": 3
   },
   "file_extension": ".py",
   "mimetype": "text/x-python",
   "name": "python",
   "nbconvert_exporter": "python",
   "pygments_lexer": "ipython3",
   "version": "3.7.6"
  }
 },
 "nbformat": 4,
 "nbformat_minor": 4
}
