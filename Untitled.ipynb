{
 "cells": [
  {
   "cell_type": "markdown",
   "metadata": {},
   "source": [
    "    \"\"\"\n",
    "    SIR Zombie Model aka Zombie Apocalypse Model\n",
    "\n",
    "    S'(t) = h - beta*s*z - delta(s)*s\n",
    "    I'(t) = beta*s*z - ro*I - delta(I)*I\n",
    "    Z'(t) = ro*I -  alpha*s*z\n",
    "    D'(t) = delta(s)*s + delta(I)*I + alpha*s*z\n",
    "\n",
    "\n",
    "    s'(t): takes into account those who are suseptible to get infected with the zombie virus\n",
    "        h : number of humans we begin with\n",
    "        beta*s*z : Those infected with zombie virus\n",
    "        delta(s)*s : Those who are dead/killed\n",
    "\n",
    "\n",
    "    I'(t): Takes into account those are infected\n",
    "        ro*I : Number of infected rate\n",
    "        beta*s*z : Those infected with zombie virus\n",
    "        delta(I)*I : When people are killed/dead\n",
    "\n",
    "\n",
    "    Z'(t): Takes into account those are NOW zombies\n",
    "        ro*I : Number of infected rate\n",
    "        alpha*s*z : human and zombie interaction. Humans killing zombies\n",
    "\n",
    "\n",
    "    D'(t): Those who are dead\n",
    "        delta(s)*s : Those who are dead/killed\n",
    "        delta(I)*I : When people are killed/dead\n",
    "        alpha*s*z : human and zombie interaction. Humans killing zombies\n",
    "\n",
    "    \"\"\"\n",
    "\n",
    "\n",
    "\n"
   ]
  },
  {
   "cell_type": "code",
   "execution_count": 18,
   "metadata": {},
   "outputs": [],
   "source": [
    "import rootfind\n",
    "import numpy as np\n",
    "#define differential equations\n",
    "\n",
    "def Sprime(t):\n",
    "    return h - beta*s*z - ds*s\n",
    "\n",
    "def Iprime(t):\n",
    "    return beta*s*z - rho*I - dI*I\n",
    "\n",
    "def Zprime(t): \n",
    "    return ro*I -  alpha*s*z\n",
    "\n",
    "def Dprime(t):\n",
    "    return ds*s + dI*I + alpha*s*z"
   ]
  },
  {
   "cell_type": "code",
   "execution_count": 24,
   "metadata": {},
   "outputs": [],
   "source": [
    "#define constants\n",
    "sigma = 20 #population growth\n",
    "alpha = 0.06 #zombie death rate\n",
    "beta = 0.03 #infection rate\n",
    "rho = 1 #time to zombie\n",
    "h = 60 #number of humans\n",
    "Z0 = 1 #initial number of zombies\n",
    "dS = 0.006 #human death rate"
   ]
  },
  {
   "cell_type": "code",
   "execution_count": 25,
   "metadata": {},
   "outputs": [],
   "source": [
    "rootfind.bisection?\n"
   ]
  },
  {
   "cell_type": "code",
   "execution_count": 26,
   "metadata": {},
   "outputs": [],
   "source": [
    "time = np.linspace(0,24,1000)"
   ]
  },
  {
   "cell_type": "code",
   "execution_count": null,
   "metadata": {},
   "outputs": [],
   "source": []
  }
 ],
 "metadata": {
  "kernelspec": {
   "display_name": "Python 3",
   "language": "python",
   "name": "python3"
  },
  "language_info": {
   "codemirror_mode": {
    "name": "ipython",
    "version": 3
   },
   "file_extension": ".py",
   "mimetype": "text/x-python",
   "name": "python",
   "nbconvert_exporter": "python",
   "pygments_lexer": "ipython3",
   "version": "3.7.6"
  }
 },
 "nbformat": 4,
 "nbformat_minor": 4
}
