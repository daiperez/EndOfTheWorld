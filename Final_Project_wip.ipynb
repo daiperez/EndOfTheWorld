{
 "cells": [
  {
   "cell_type": "markdown",
   "metadata": {},
   "source": [
    "##  We’re all going to die man!  Modeling the transmission of a zombie apocalypse with the SIR model for spread of infectious disease.\n",
    "\n",
    "Daisy Perez-Ruiz\n",
    "\n",
    "Jason Phennicie"
   ]
  },
  {
   "cell_type": "markdown",
   "metadata": {},
   "source": [
    "## Table of Contents\n",
    "\n",
    "* [Introduction](#ex0)\n",
    "* [Model](#ex1)\n",
    "* [Numerical Methods](#ex2)\n",
    "* [Results](#ex3)\n",
    "* [Analysis](#ex4)\n",
    "* [Summary](#ex5)\n",
    "* [References](#ex6)"
   ]
  },
  {
   "cell_type": "markdown",
   "metadata": {},
   "source": [
    "## Introduction <a id='ex0'></a>\n",
    "\n",
    "\n",
    "The spread of infectious diseases can be modelled using sets of ordinary differential equations, or ODEs. The ODE functions come from the SIR model for infectious disease, and have been modified slightly to account for the combined number of dead humans and zombies. The ODEs utilize parameters such as the infection rate, zombie death rate, initial population sizes, etc, to calculate the spread of the infection. We are also working on a way to implement more parameters such as speed of zombie and transmission rate that can be conditionally called. These will be modifiers on variables of change, for example dS would be modified by a transmission rate constant. \n",
    "\n",
    "An ODE solver was used to solve these differential equations, generating graphs to display how the human race did given a specific set of parameters. The boundary for this set of functions is either zombies or humans wipe the other out. "
   ]
  },
  {
   "cell_type": "markdown",
   "metadata": {},
   "source": [
    "## Model<a id='ex1'></a>\n",
    "The SIR model for infectious disease is represented by the following ODEs. [TODO- ADD CITATION]\n",
    "\n",
    "\\begin{equation*}    \n",
    "S'(t) = h - β*σ*z - ΔS*S \\tag {1}\n",
    "\\end{equation*}\n",
    "\n",
    "\n",
    "\\begin{equation*}    \n",
    "I'(t) = β*σ*z - ρ*I - Δ(I)*I \\tag {2}\n",
    "\\end{equation*}\n",
    "\n",
    "\\begin{equation*}    \n",
    "Z'(t) = ρ*I -  α*σ*z \\tag {3}\n",
    "\\end{equation*}\n",
    "\n",
    "\\begin{equation*}    \n",
    "D'(t) = ΔS*S + ΔI*I + α*σ*z \\tag {4}\n",
    "\\end{equation*}\n",
    "       \n",
    "   \n",
    "  \n",
    "    \n",
    "    \n",
    "The first equation represents the number of humans who are susceptible to infection by the zombie virus. The variable h represents the original number of non-infected humans in the system. The β*S*z factor calculates the number of humans that have been infected with the zombie virus. ΔS*S calculates the change in the susceptible population as a result of human death.\n",
    "\n",
    "The second equation calculates the number of humans who are infected with the zombie virus. This population depends on the changes to the susceptible population.\n",
    "\n",
    "Equation three finds the number of zombies created from the susceptible population from equation two. This function takes in to account theFinally, equation four is made to calculate the total number of dead humans and zombies.\n",
    "\n",
    "\n",
    "\n",
    "A master list of variables for the above differential equations:\n",
    "σ is population growth(?)\n",
    "α is zombie death rate\n",
    "β is susceptible infection rate\n",
    "ρ is time to change to a zombie after infection.\n",
    "h is  number of humans.\n",
    "Z is number of zombies.\n",
    "dS is the change in susceptibles due to death.\n",
    "            \n",
    "      \n",
    "    "
   ]
  },
  {
   "cell_type": "markdown",
   "metadata": {},
   "source": [
    "## Numerical Methods<a id='ex2'></a>\n",
    "\n",
    "For this project we will be using a modified version of the 4th order Runge-Kutta ODE solver found in the solve function that was created for weekly session 9[3]. The 4th order Runge-Kutta methods estimate solutions for ODEs via many iterations of calculations involving the slope of the equation. The ODE solver we will be using was created in week 9. The code for this ODE solver is found below.\n",
    "\n"
   ]
  },
  {
   "cell_type": "code",
   "execution_count": 15,
   "metadata": {},
   "outputs": [],
   "source": [
    "import numpy as np\n",
    "\n",
    "\n",
    "def solve(f,y0,interval,steps,order):\n",
    "    \"\"\" Solve ODE by Euler or Runge-Kutta methods, with fixed number\n",
    "    of steps.\n",
    "\n",
    "    In contrast to the examples of Newman Chapter 8, which build up a\n",
    "    list, point by point, \n",
    "    \n",
    "    f: function giving ODE as y'=f(x,y)\n",
    "    y0: initial value\n",
    "    interval: tuple region (a,b) on which to solve ODE\n",
    "    steps: number of steps\n",
    "    order: order of solution method (1 for Euler, 2 or 4 for Runge-Kutta)\n",
    "    \n",
    "    Returns (x,y) points, as (steps+1)x2 numpy array.\n",
    "    \"\"\"\n",
    "    (a,b)=interval\n",
    "    temp = 0\n",
    "    h=(b - a) / float(steps)\n",
    "    x=y0\n",
    "    tpoints= np.arange(a, b, h)\n",
    "    spoints = []\n",
    "    ipoints = []\n",
    "    zpoints = []\n",
    "    dpoints = []\n",
    "    \n",
    "    if (order== 1):\n",
    "        #Using Euler's method\n",
    "        for t in (tpoints):\n",
    "            xpoints.append(x)\n",
    "            x += h * f(x, t)\n",
    "        func = (tpoints, xpoints)\n",
    "    if (order == 2):\n",
    "        for t in (tpoints):\n",
    "            xpoints.append(x)\n",
    "            k1 = h* f(x,t)\n",
    "            k2 = h* f(x+0.5*k1, t+0.5*h)\n",
    "            x+= k2\n",
    "        func = (tpoints, xpoints)\n",
    "    if (order == 4):\n",
    "        for t in tpoints:\n",
    "            spoints.append(x[0])\n",
    "            ipoints.append(x[1])\n",
    "            zpoints.append(x[2])\n",
    "            dpoints.append(x[3])\n",
    "            k1 = h*f(x,t)\n",
    "            k2 = h*f(x+0.5*k1,t+0.5*h)\n",
    "            k3 = h*f(x+0.5*k2,t+0.5*h)\n",
    "            k4 = h*f(x+k3,t+h)\n",
    "            x += (k1+2*k2+2*k3+k4)/6\n",
    "        plt.figure()\n",
    "        plt.plot(tpoints, spoints, color='b', label='Living')\n",
    "        plt.plot(tpoints, ipoints, color='r', label='Infected')\n",
    "        plt.plot(tpoints, zpoints, color='g', label='Zombies')\n",
    "        plt.plot(tpoints, dpoints, color='k', label='Dead')\n",
    "    return ()\n"
   ]
  },
  {
   "cell_type": "code",
   "execution_count": 16,
   "metadata": {},
   "outputs": [
    {
     "ename": "NameError",
     "evalue": "name 'plt' is not defined",
     "output_type": "error",
     "traceback": [
      "\u001b[1;31m---------------------------------------------------------------------------\u001b[0m",
      "\u001b[1;31mNameError\u001b[0m                                 Traceback (most recent call last)",
      "\u001b[1;32m<ipython-input-16-e7d886fdfdf6>\u001b[0m in \u001b[0;36m<module>\u001b[1;34m\u001b[0m\n\u001b[0;32m     32\u001b[0m \u001b[0my0\u001b[0m\u001b[1;33m=\u001b[0m\u001b[1;33m[\u001b[0m\u001b[0mS0\u001b[0m\u001b[1;33m,\u001b[0m \u001b[0mI0\u001b[0m\u001b[1;33m,\u001b[0m \u001b[0mZ0\u001b[0m\u001b[1;33m,\u001b[0m \u001b[0mD0\u001b[0m\u001b[1;33m]\u001b[0m\u001b[1;33m\u001b[0m\u001b[1;33m\u001b[0m\u001b[0m\n\u001b[0;32m     33\u001b[0m \u001b[1;33m\u001b[0m\u001b[0m\n\u001b[1;32m---> 34\u001b[1;33m \u001b[0msolve\u001b[0m\u001b[1;33m(\u001b[0m\u001b[0mf\u001b[0m\u001b[1;33m,\u001b[0m \u001b[0my0\u001b[0m\u001b[1;33m,\u001b[0m \u001b[0minterval\u001b[0m\u001b[1;33m,\u001b[0m \u001b[0msteps\u001b[0m\u001b[1;33m,\u001b[0m \u001b[0morder\u001b[0m\u001b[1;33m=\u001b[0m\u001b[1;36m4\u001b[0m\u001b[1;33m)\u001b[0m\u001b[1;33m\u001b[0m\u001b[1;33m\u001b[0m\u001b[0m\n\u001b[0m\u001b[0;32m     35\u001b[0m \u001b[1;31m#S= solution[:, 0]\u001b[0m\u001b[1;33m\u001b[0m\u001b[1;33m\u001b[0m\u001b[1;33m\u001b[0m\u001b[0m\n\u001b[0;32m     36\u001b[0m \u001b[1;31m#I= solution[:, 1]\u001b[0m\u001b[1;33m\u001b[0m\u001b[1;33m\u001b[0m\u001b[1;33m\u001b[0m\u001b[0m\n",
      "\u001b[1;32m<ipython-input-15-e6b8e21d2b66>\u001b[0m in \u001b[0;36msolve\u001b[1;34m(f, y0, interval, steps, order)\u001b[0m\n\u001b[0;32m     51\u001b[0m             \u001b[0mk4\u001b[0m \u001b[1;33m=\u001b[0m \u001b[0mh\u001b[0m\u001b[1;33m*\u001b[0m\u001b[0mf\u001b[0m\u001b[1;33m(\u001b[0m\u001b[0mx\u001b[0m\u001b[1;33m+\u001b[0m\u001b[0mk3\u001b[0m\u001b[1;33m,\u001b[0m\u001b[0mt\u001b[0m\u001b[1;33m+\u001b[0m\u001b[0mh\u001b[0m\u001b[1;33m)\u001b[0m\u001b[1;33m\u001b[0m\u001b[1;33m\u001b[0m\u001b[0m\n\u001b[0;32m     52\u001b[0m             \u001b[0mx\u001b[0m \u001b[1;33m+=\u001b[0m \u001b[1;33m(\u001b[0m\u001b[0mk1\u001b[0m\u001b[1;33m+\u001b[0m\u001b[1;36m2\u001b[0m\u001b[1;33m*\u001b[0m\u001b[0mk2\u001b[0m\u001b[1;33m+\u001b[0m\u001b[1;36m2\u001b[0m\u001b[1;33m*\u001b[0m\u001b[0mk3\u001b[0m\u001b[1;33m+\u001b[0m\u001b[0mk4\u001b[0m\u001b[1;33m)\u001b[0m\u001b[1;33m/\u001b[0m\u001b[1;36m6\u001b[0m\u001b[1;33m\u001b[0m\u001b[1;33m\u001b[0m\u001b[0m\n\u001b[1;32m---> 53\u001b[1;33m         \u001b[0mplt\u001b[0m\u001b[1;33m.\u001b[0m\u001b[0mfigure\u001b[0m\u001b[1;33m(\u001b[0m\u001b[1;33m)\u001b[0m\u001b[1;33m\u001b[0m\u001b[1;33m\u001b[0m\u001b[0m\n\u001b[0m\u001b[0;32m     54\u001b[0m         \u001b[0mplt\u001b[0m\u001b[1;33m.\u001b[0m\u001b[0mplot\u001b[0m\u001b[1;33m(\u001b[0m\u001b[0mtpoints\u001b[0m\u001b[1;33m,\u001b[0m \u001b[0mspoints\u001b[0m\u001b[1;33m,\u001b[0m \u001b[0mcolor\u001b[0m\u001b[1;33m=\u001b[0m\u001b[1;34m'b'\u001b[0m\u001b[1;33m,\u001b[0m \u001b[0mlabel\u001b[0m\u001b[1;33m=\u001b[0m\u001b[1;34m'Living'\u001b[0m\u001b[1;33m)\u001b[0m\u001b[1;33m\u001b[0m\u001b[1;33m\u001b[0m\u001b[0m\n\u001b[0;32m     55\u001b[0m         \u001b[0mplt\u001b[0m\u001b[1;33m.\u001b[0m\u001b[0mplot\u001b[0m\u001b[1;33m(\u001b[0m\u001b[0mtpoints\u001b[0m\u001b[1;33m,\u001b[0m \u001b[0mipoints\u001b[0m\u001b[1;33m,\u001b[0m \u001b[0mcolor\u001b[0m\u001b[1;33m=\u001b[0m\u001b[1;34m'r'\u001b[0m\u001b[1;33m,\u001b[0m \u001b[0mlabel\u001b[0m\u001b[1;33m=\u001b[0m\u001b[1;34m'Infected'\u001b[0m\u001b[1;33m)\u001b[0m\u001b[1;33m\u001b[0m\u001b[1;33m\u001b[0m\u001b[0m\n",
      "\u001b[1;31mNameError\u001b[0m: name 'plt' is not defined"
     ]
    }
   ],
   "source": [
    "#declare range\n",
    "interval= [0,10]\n",
    "steps= 1000\n",
    "\n",
    "h=0          #rate at which people coming into the area/birth rate\n",
    "d= 40      #death rate\n",
    "beta= 0   #transmission rate\n",
    "ro =0     #percent of those who are infected become zombies\n",
    "alpha= 0\n",
    "\n",
    "\n",
    "def f(y, t, *args):\n",
    "    #initialize\n",
    "    Si=y[0]\n",
    "    Ii=y[1]\n",
    "    Zi=y[2]\n",
    "    Di=y[3]\n",
    "\n",
    "    f0= h - beta*Si*Zi - d*Si \n",
    "    f1= beta*Si*Zi - ro*Ii - d*Ii\n",
    "    f2= ro*Ii - alpha*Si*Zi\n",
    "    f3= d*Si + d*Ii + alpha*Si*Zi\n",
    "    \n",
    "    return np.array([f0, f1, f2, f3], float)\n",
    "\n",
    "#initial conditions\n",
    "S0 = 20.     #initial Population\n",
    "I0=0.         #Initial infected population\n",
    "Z0=0.         #initial zombie population\n",
    "D0=0.         #Initial deaths\n",
    "\n",
    "y0=[S0, I0, Z0, D0]\n",
    "\n",
    "solve(f, y0, interval, steps, order=4)\n",
    "#S= solution[:, 0]\n",
    "#I= solution[:, 1]\n",
    "#Z= solution[:, 2]\n",
    "#D= solution[:, 3]\n",
    "\n",
    "#plt.figure()\n",
    "#plt.plot(S, label='Living')\n",
    "#plt.plot(Z, label='Zombies')\n"
   ]
  },
  {
   "cell_type": "markdown",
   "metadata": {},
   "source": [
    "## Results<a id='ex3'></a>\n"
   ]
  },
  {
   "cell_type": "markdown",
   "metadata": {},
   "source": [
    "## Analysis <a id='ex4'></a>\n"
   ]
  },
  {
   "cell_type": "markdown",
   "metadata": {},
   "source": [
    "## Summary <a id='ex5'></a>\n"
   ]
  },
  {
   "cell_type": "markdown",
   "metadata": {},
   "source": [
    "## References <a id='ex6'></a>\n"
   ]
  },
  {
   "cell_type": "markdown",
   "metadata": {},
   "source": [
    "\n",
    "[1] http://www.bbc.com/culture/story/20150828-where-do-zombies-come-from\"\n",
    "\n",
    "[2] https://www.maa.org/press/periodicals/loci/joma/the-sir-model-for-spread-of-disease-the-differential-equation-model\n",
    "\n",
    "[3] http://www-personal.umich.edu/~mejn/cp/ \n",
    "\n",
    "[4] https://arxiv.org/pdf/1802.10443.pdf \n",
    "\n",
    "[5] https://www.history.com/topics/folklore/history-of-zombies\n"
   ]
  },
  {
   "cell_type": "code",
   "execution_count": null,
   "metadata": {},
   "outputs": [],
   "source": []
  },
  {
   "cell_type": "code",
   "execution_count": null,
   "metadata": {},
   "outputs": [],
   "source": []
  },
  {
   "cell_type": "code",
   "execution_count": null,
   "metadata": {},
   "outputs": [],
   "source": []
  }
 ],
 "metadata": {
  "kernelspec": {
   "display_name": "Python 3",
   "language": "python",
   "name": "python3"
  },
  "language_info": {
   "codemirror_mode": {
    "name": "ipython",
    "version": 3
   },
   "file_extension": ".py",
   "mimetype": "text/x-python",
   "name": "python",
   "nbconvert_exporter": "python",
   "pygments_lexer": "ipython3",
   "version": "3.7.6"
  }
 },
 "nbformat": 4,
 "nbformat_minor": 4
}
