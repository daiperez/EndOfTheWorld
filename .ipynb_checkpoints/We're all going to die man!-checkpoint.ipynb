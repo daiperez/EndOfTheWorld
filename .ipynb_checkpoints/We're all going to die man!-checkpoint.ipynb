{
 "cells": [
  {
   "cell_type": "markdown",
   "metadata": {},
   "source": [
    "    \"\"\"\n",
    "    SIR Zombie Model aka Zombie Apocalypse Model\n",
    "\n",
    "    S'(t) = h - beta*s*z - delta(s)*s\n",
    "    I'(t) = beta*s*z - ro*I - delta(I)*I\n",
    "    Z'(t) = ro*I -  alpha*s*z\n",
    "    D'(t) = delta(s)*s + delta(I)*I + alpha*s*z\n",
    "\n",
    "\n",
    "    s'(t): takes into account those who are suseptible to get infected with the zombie virus\n",
    "        h : number of humans we begin with\n",
    "        beta*s*z : Those infected with zombie virus\n",
    "        delta(s)*s : Those who are dead/killed\n",
    "\n",
    "\n",
    "    I'(t): Takes into account those are infected\n",
    "        ro*I : Number of infected rate\n",
    "        beta*s*z : Those infected with zombie virus\n",
    "        delta(I)*I : When people are killed/dead\n",
    "\n",
    "\n",
    "    Z'(t): Takes into account those are NOW zombies\n",
    "        ro*I : Number of infected rate\n",
    "        alpha*s*z : human and zombie interaction. Humans killing zombies\n",
    "\n",
    "\n",
    "    D'(t): Those who are dead\n",
    "        delta(s)*s : Those who are dead/killed\n",
    "        delta(I)*I : When people are killed/dead\n",
    "        alpha*s*z : human and zombie interaction. Humans killing zombies\n",
    "\n",
    "    \"\"\"\n",
    "\n",
    "\n",
    "\n"
   ]
  },
  {
   "cell_type": "code",
   "execution_count": 45,
   "metadata": {},
   "outputs": [],
   "source": [
    "import rootfind\n",
    "import numpy as np\n",
    "#define differential equations\n",
    "\n",
    "def Sprime(t):\n",
    "    \n",
    "    ##add conditionals based on t \n",
    "    \n",
    "    h = 60\n",
    "    beta = 0.03\n",
    "    dh = 0.006\n",
    "    z = 1\n",
    "    return h - beta*h*z - dh*h\n",
    "\n",
    "def Iprime(t):\n",
    "    return beta*sigma*Z0 - rho*I - dI*I\n",
    "\n",
    "def Zprime(t): \n",
    "    return ro*I -  alpha*h*z\n",
    "\n",
    "def Dprime(t):\n",
    "    return dh*h + dI*I + alpha*h*z"
   ]
  },
  {
   "cell_type": "code",
   "execution_count": 46,
   "metadata": {},
   "outputs": [],
   "source": [
    "#define constants\n",
    "sigma = 20 #population growth(?)\n",
    "alpha = 0.06 #zombie death rate\n",
    "beta = 0.03 #infection rate\n",
    "rho = 1 #time to zombie\n",
    "h = 60 #number of humans\n",
    "Z0 = 1 #initial number of zombies\n",
    "dS = 0.006 #human death rate"
   ]
  },
  {
   "cell_type": "code",
   "execution_count": 51,
   "metadata": {},
   "outputs": [
    {
     "name": "stdout",
     "output_type": "stream",
     "text": [
      "Object `rootfind.solve` not found.\n"
     ]
    },
    {
     "ename": "AttributeError",
     "evalue": "module 'rootfind' has no attribute 'solve'",
     "output_type": "error",
     "traceback": [
      "\u001b[1;31m---------------------------------------------------------------------------\u001b[0m",
      "\u001b[1;31mAttributeError\u001b[0m                            Traceback (most recent call last)",
      "\u001b[1;32m<ipython-input-51-8051ef1b2efd>\u001b[0m in \u001b[0;36m<module>\u001b[1;34m\u001b[0m\n\u001b[0;32m      1\u001b[0m \u001b[0mget_ipython\u001b[0m\u001b[1;33m(\u001b[0m\u001b[1;33m)\u001b[0m\u001b[1;33m.\u001b[0m\u001b[0mrun_line_magic\u001b[0m\u001b[1;33m(\u001b[0m\u001b[1;34m'pinfo'\u001b[0m\u001b[1;33m,\u001b[0m \u001b[1;34m'rootfind.solve'\u001b[0m\u001b[1;33m)\u001b[0m\u001b[1;33m\u001b[0m\u001b[1;33m\u001b[0m\u001b[0m\n\u001b[1;32m----> 2\u001b[1;33m \u001b[0mrootfind\u001b[0m\u001b[1;33m.\u001b[0m\u001b[0msolve\u001b[0m\u001b[1;33m(\u001b[0m\u001b[1;33m)\u001b[0m\u001b[1;33m\u001b[0m\u001b[1;33m\u001b[0m\u001b[0m\n\u001b[0m",
      "\u001b[1;31mAttributeError\u001b[0m: module 'rootfind' has no attribute 'solve'"
     ]
    }
   ],
   "source": [
    "rootfind.solve?\n",
    "rootfind.solve()"
   ]
  },
  {
   "cell_type": "code",
   "execution_count": 48,
   "metadata": {},
   "outputs": [
    {
     "ename": "SyntaxError",
     "evalue": "unexpected EOF while parsing (<ipython-input-48-023d3665bdbd>, line 2)",
     "output_type": "error",
     "traceback": [
      "\u001b[1;36m  File \u001b[1;32m\"<ipython-input-48-023d3665bdbd>\"\u001b[1;36m, line \u001b[1;32m2\u001b[0m\n\u001b[1;33m    for t in range (0,1):\u001b[0m\n\u001b[1;37m                         ^\u001b[0m\n\u001b[1;31mSyntaxError\u001b[0m\u001b[1;31m:\u001b[0m unexpected EOF while parsing\n"
     ]
    }
   ],
   "source": [
    "time = np.linspace(0,24,1000)\n",
    "for t in range (0,1):"
   ]
  },
  {
   "cell_type": "code",
   "execution_count": 34,
   "metadata": {},
   "outputs": [],
   "source": []
  },
  {
   "cell_type": "code",
   "execution_count": null,
   "metadata": {},
   "outputs": [],
   "source": []
  },
  {
   "cell_type": "code",
   "execution_count": null,
   "metadata": {},
   "outputs": [],
   "source": []
  }
 ],
 "metadata": {
  "kernelspec": {
   "display_name": "Python 3",
   "language": "python",
   "name": "python3"
  },
  "language_info": {
   "codemirror_mode": {
    "name": "ipython",
    "version": 3
   },
   "file_extension": ".py",
   "mimetype": "text/x-python",
   "name": "python",
   "nbconvert_exporter": "python",
   "pygments_lexer": "ipython3",
   "version": "3.7.6"
  }
 },
 "nbformat": 4,
 "nbformat_minor": 4
}
