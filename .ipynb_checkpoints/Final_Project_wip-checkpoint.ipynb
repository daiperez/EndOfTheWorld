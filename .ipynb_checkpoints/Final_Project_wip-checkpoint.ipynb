{
 "cells": [
  {
   "cell_type": "markdown",
   "metadata": {},
   "source": [
    "##  We’re all going to die man!  Modeling the transmission of a zombie apocalypse with the SIR model for spread of infectious disease.\n",
    "\n",
    "Daisy Perez-Ruiz\n",
    "\n",
    "Jason Phennicie"
   ]
  },
  {
   "cell_type": "markdown",
   "metadata": {},
   "source": [
    "## Table of Contents\n",
    "\n",
    "* [Introduction](#ex0)\n",
    "* [Model](#ex1)\n",
    "* [Numerical Methods](#ex2)\n",
    "* [Results](#ex3)\n",
    "* [Analysis](#ex4)\n",
    "* [Summary](#ex5)\n",
    "* [References](#ex6)"
   ]
  },
  {
   "cell_type": "markdown",
   "metadata": {},
   "source": [
    "## Introduction <a id='ex0'></a>\n",
    "\n",
    "\n",
    "The spread of infectious diseases can be modelled using sets of ordinary differential equations, or ODEs. The ODE functions come from the SIR model for infectious disease, and have been modified slightly to account for the combined number of dead humans and zombies. The ODEs utilize parameters such as the infection rate, zombie death rate, initial population sizes, etc, to calculate the spread of the infection. We are also working on a way to implement more parameters such as speed of zombie and transmission rate that can be conditionally called. These will be modifiers on variables of change, for example dS would be modified by a transmission rate constant. \n",
    "\n",
    "An ODE solver was used to solve these differential equations, generating graphs to display how the human race did given a specific set of parameters. The boundary for this set of functions is either zombies or humans wipe the other out. "
   ]
  },
  {
   "cell_type": "markdown",
   "metadata": {},
   "source": [
    "## Model<a id='ex1'></a>\n",
    "The SIR model for infectious disease is represented by the following ODEs. [TODO- ADD CITATION]\n",
    "\n",
    "\\begin{equation*}    \n",
    "S'(t) = h - β*S*Z - ΔS*S \\tag {1}\n",
    "\\end{equation*}\n",
    "\n",
    "\\begin{equation*}    \n",
    "I'(t) = β*S*Z - ρ*I - Δ(I)*I \\tag {2}\n",
    "\\end{equation*}\n",
    "\n",
    "\\begin{equation*}    \n",
    "Z'(t) = ρ*I -  α*S*Z \\tag {3}\n",
    "\\end{equation*}\n",
    "\n",
    "\\begin{equation*}    \n",
    "D'(t) = ΔS*S + ΔI*I + α*S*Z \\tag {4}\n",
    "\\end{equation*}\n",
    "          \n",
    "    \n",
    "The first equation represents the number of humans who are susceptible to infection by the zombie virus. The variable h represents the original number of non-infected humans in the system. The β*S*z factor calculates the number of humans that have been infected with the zombie virus. ΔS*S calculates the change in the susceptible population as a result of human death.\n",
    "\n",
    "The second equation calculates the number of humans who are infected with the zombie virus. This population depends on the changes to the susceptible population.\n",
    "\n",
    "Equation three finds the number of zombies created from the susceptible population from equation two. This function takes in to account the \n",
    "\n",
    "Finally, equation four is made to calculate the total number of dead humans and zombies.\n",
    "\n",
    "The SIR model also typically includes an additional differential equation, R'(t), that represents the recovered population. Unfortunately due to the nature of a zombie apocalypse there will be no recovery. The recovery equation has been replaced by the death toll, D'(t).\n",
    "\n",
    "\n",
    "\n",
    "\n",
    "A master list of variables for the above differential equations:\n",
    "\n",
    "S is susceptible population.\n",
    "\n",
    "I is infected population.\n",
    "\n",
    "h is number of humans.\n",
    "\n",
    "Z is number of zombies.\n",
    "\n",
    "α is zombie death rate.\n",
    "\n",
    "β is susceptible infection rate.\n",
    "\n",
    "ρ is time to change to a zombie after infection.\n",
    "\n",
    "D is dead population."
   ]
  },
  {
   "cell_type": "markdown",
   "metadata": {},
   "source": [
    "## Numerical Methods<a id='ex2'></a>\n",
    "\n",
    "The fourth order Runge-Kutte ODE solver was used to solve the ODEs in the SIR model. This method of solving the SIR model is both very accurate and simple to use."
   ]
  },
  {
   "cell_type": "code",
   "execution_count": 1,
   "metadata": {},
   "outputs": [],
   "source": [
    "import numpy as np\n",
    "import pylab as plt\n",
    "\n",
    "\n",
    "def solve(f,y0,interval,steps,order):\n",
    "    \"\"\" Solve ODE by Euler or Runge-Kutta methods, with fixed number\n",
    "    of steps.\n",
    "\n",
    "    In contrast to the examples of Newman Chapter 8, which build up a\n",
    "    list, point by point, \n",
    "    \n",
    "    f: function giving ODE as y'=f(x,y)\n",
    "    y0: initial value\n",
    "    interval: tuple region (a,b) on which to solve ODE\n",
    "    steps: number of steps\n",
    "    order: order of solution method (1 for Euler, 2 or 4 for Runge-Kutta)\n",
    "    \n",
    "    Returns (x,y) points, as (steps+1)x2 numpy array.\n",
    "    \"\"\"\n",
    "    (a,b)=interval\n",
    "    temp = 0\n",
    "    h=(b - a) / float(steps)\n",
    "    x=y0\n",
    "    tpoints= np.arange(a, b, h)\n",
    "    spoints = []\n",
    "    ipoints = []\n",
    "    zpoints = []\n",
    "    dpoints = []\n",
    "    \n",
    "    if (order== 1):\n",
    "        #Using Euler's method\n",
    "        for t in (tpoints):\n",
    "            xpoints.append(x)\n",
    "            x += h * f(x, t)\n",
    "        func = (tpoints, xpoints)\n",
    "    if (order == 2):\n",
    "        for t in (tpoints):\n",
    "            xpoints.append(x)\n",
    "            k1 = h* f(x,t)\n",
    "            k2 = h* f(x+0.5*k1, t+0.5*h)\n",
    "            x+= k2\n",
    "        func = (tpoints, xpoints)\n",
    "    if (order == 4):\n",
    "        for t in tpoints:\n",
    "            spoints.append(x[0])\n",
    "            ipoints.append(x[1])\n",
    "            zpoints.append(x[2])\n",
    "            dpoints.append(x[3])\n",
    "            k1 = h*f(x,t)\n",
    "            k2 = h*f(x+0.5*k1,t+0.5*h)\n",
    "            k3 = h*f(x+0.5*k2,t+0.5*h)\n",
    "            k4 = h*f(x+k3,t+h)\n",
    "            x += (k1+2*k2+2*k3+k4)/6\n",
    "        plt.figure()\n",
    "        plt.plot(tpoints, spoints, color='b', label='Living')\n",
    "        plt.plot(tpoints, ipoints, color='r', label='Infected')\n",
    "        plt.plot(tpoints, zpoints, color='g', label='Zombies')\n",
    "        plt.plot(tpoints, dpoints, color='k', label='Dead')\n",
    "    return ()\n"
   ]
  },
  {
   "cell_type": "code",
   "execution_count": 5,
   "metadata": {},
   "outputs": [
    {
     "data": {
      "text/plain": [
       "()"
      ]
     },
     "execution_count": 5,
     "metadata": {},
     "output_type": "execute_result"
    },
    {
     "data": {
      "image/png": "[encoded data removed]",
      "text/plain": [
       "<Figure size 432x288 with 1 Axes>"
      ]
     },
     "metadata": {
      "needs_background": "light"
     },
     "output_type": "display_data"
    }
   ],
   "source": [
    "#declare range\n",
    "interval= [0,10]\n",
    "steps= 1000\n",
    "\n",
    "h=10          #rate at which people coming into the area/birth rate\n",
    "d= 0.08      #death rate\n",
    "beta= 1   #transmission rate\n",
    "ro = 1     #percent of those who are infected become zombies\n",
    "alpha= 0\n",
    "\n",
    "\n",
    "def f(y, t, *args):\n",
    "    #initialize\n",
    "    Si=y[0]\n",
    "    Ii=y[1]\n",
    "    Zi=y[2]\n",
    "    Di=y[3]\n",
    "\n",
    "    f0= h - beta*Si*Zi - d*Si \n",
    "    f1= beta*Si*Zi - ro*Ii - d*Ii\n",
    "    f2= ro*Ii - alpha*Si*Zi\n",
    "    f3= d*Si + d*Ii + alpha*Si*Zi\n",
    "    \n",
    "    return np.array([f0, f1, f2, f3], float)\n",
    "\n",
    "#initial conditions\n",
    "S0 = 2000.    #initial Population\n",
    "I0=0.         #Initial infected population\n",
    "Z0=0.         #initial zombie population\n",
    "D0=0.         #Initial deaths\n",
    "\n",
    "y0=[S0, I0, Z0, D0]\n",
    "\n",
    "solve(f, y0, interval, steps, order=4)\n",
    "#S= solution[:, 0]\n",
    "#I= solution[:, 1]\n",
    "#Z= solution[:, 2]\n",
    "#D= solution[:, 3]\n",
    "\n",
    "#plt.figure()\n",
    "#plt.plot(S, label='Living')\n",
    "#plt.plot(Z, label='Zombies')\n"
   ]
  },
  {
   "cell_type": "markdown",
   "metadata": {},
   "source": [
    "## Results<a id='ex3'></a>\n"
   ]
  },
  {
   "cell_type": "markdown",
   "metadata": {},
   "source": [
    "## Analysis <a id='ex4'></a>\n"
   ]
  },
  {
   "cell_type": "markdown",
   "metadata": {},
   "source": [
    "## Summary <a id='ex5'></a>\n"
   ]
  },
  {
   "cell_type": "markdown",
   "metadata": {},
   "source": [
    "## References <a id='ex6'></a>\n"
   ]
  },
  {
   "cell_type": "markdown",
   "metadata": {},
   "source": [
    "\n",
    "[1] http://www.bbc.com/culture/story/20150828-where-do-zombies-come-from\"\n",
    "\n",
    "[2] https://www.maa.org/press/periodicals/loci/joma/the-sir-model-for-spread-of-disease-the-differential-equation-model\n",
    "\n",
    "[3] http://www-personal.umich.edu/~mejn/cp/ \n",
    "\n",
    "[4] https://arxiv.org/pdf/1802.10443.pdf \n",
    "\n",
    "[5] https://www.history.com/topics/folklore/history-of-zombies\n"
   ]
  },
  {
   "cell_type": "code",
   "execution_count": null,
   "metadata": {},
   "outputs": [],
   "source": []
  },
  {
   "cell_type": "code",
   "execution_count": null,
   "metadata": {},
   "outputs": [],
   "source": []
  },
  {
   "cell_type": "code",
   "execution_count": null,
   "metadata": {},
   "outputs": [],
   "source": []
  }
 ],
 "metadata": {
  "kernelspec": {
   "display_name": "Python 3",
   "language": "python",
   "name": "python3"
  },
  "language_info": {
   "codemirror_mode": {
    "name": "ipython",
    "version": 3
   },
   "file_extension": ".py",
   "mimetype": "text/x-python",
   "name": "python",
   "nbconvert_exporter": "python",
   "pygments_lexer": "ipython3",
   "version": "3.7.6"
  }
 },
 "nbformat": 4,
 "nbformat_minor": 4
}
