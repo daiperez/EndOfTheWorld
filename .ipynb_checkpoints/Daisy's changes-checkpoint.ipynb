{
 "cells": [
  {
   "cell_type": "code",
   "execution_count": 2,
   "metadata": {},
   "outputs": [],
   "source": [
    "import numpy as np\n",
    "from matplotlib import pyplot as plt \n"
   ]
  },
  {
   "cell_type": "code",
   "execution_count": 10,
   "metadata": {},
   "outputs": [],
   "source": [
    "def solve(f,y0,interval,steps,order):\n",
    "    \"\"\" Solve ODE by Euler or Runge-Kutta methods, with fixed number\n",
    "    of steps.\n",
    "\n",
    "    In contrast to the examples of Newman Chapter 8, which build up a\n",
    "    list, point by point, \n",
    "    \n",
    "    f: function giving ODE as y'=f(x,y)\n",
    "    y0: initial value\n",
    "    interval: tuple region (a,b) on which to solve ODE\n",
    "    steps: number of steps\n",
    "    order: order of solution method (1 for Euler, 2 or 4 for Runge-Kutta)\n",
    "    \n",
    "    Returns (x,y) points, as (steps+1)x2 numpy array.\n",
    "    \"\"\"\n",
    "    (a,b)=interval\n",
    "    temp = 0\n",
    "    h=(b - a) / float(steps)\n",
    "    x=y0\n",
    "    tpoints= np.arange(a, b, h)\n",
    "    xpoints = []\n",
    "    \n",
    "    if (order== 1):\n",
    "        #Using Euler's method\n",
    "        for t in (tpoints):\n",
    "            xpoints.append(x)\n",
    "            x += h * f(x, t)\n",
    "        func = (tpoints, xpoints)\n",
    "    if (order == 2):\n",
    "        for t in (tpoints):\n",
    "            xpoints.append(x)\n",
    "            k1 = h* f(x,t)\n",
    "            k2 = h* f(x+0.5*k1, t+0.5*h)\n",
    "            x+= k2\n",
    "        func = (tpoints, xpoints)\n",
    "    if (order == 4):\n",
    "        for t in tpoints:\n",
    "            xpoints.append(x)\n",
    "            k1 = h*f(x,t)\n",
    "            k2 = h*f(x+0.5*k1,t+0.5*h)\n",
    "            k3 = h*f(x+0.5*k2,t+0.5*h)\n",
    "            k4 = h*f(x+k3,t+h)\n",
    "            x += (k1+2*k2+2*k3+k4)/6\n",
    "        func = (tpoints, xpoints)\n",
    "    return (func)"
   ]
  },
  {
   "cell_type": "code",
   "execution_count": 11,
   "metadata": {},
   "outputs": [
    {
     "data": {
      "text/plain": [
       "\"\\nSIR Zombie Model aka Zombie Apocalypse Model\\n\\ns'(t) = h - beta*s*z - delta(s)*s\\nI'(t) = beta*s*z - ro*I - delta(I)*I\\nZ'(t) = ro*I -  alpha*s*z\\nD'(t) = delta(s)*s + delta(I)*I + alpha*s*z\\n    \\n    \\ns'(t): takes into account those who are suseptible to get infected with the zombie virus\\n    h : number of humans we begin with\\n    beta*s*z : Those infected with zombie virus\\n    delta(s)*s : Those who are dead/killed\\n    \\n    \\nI'(t): Takes into account those are infected\\n    ro*I : Number of infected rate\\n    beta*s*z : Those infected with zombie virus\\n    delta(I)*I : When people are killed/dead\\n     \\n    \\nZ'(t): Takes into account those are NOW zombies\\n    ro*I : Number of infected rate\\n    alpha*s*z : human and zombie interaction. Humans killing zombies\\n    \\n    \\nD'(t): Those who are dead\\n    delta(s)*s : Those who are dead/killed\\n    delta(I)*I : When people are killed/dead\\n    alpha*s*z : human and zombie interaction. Humans killing zombies\\n    \\n\""
      ]
     },
     "execution_count": 11,
     "metadata": {},
     "output_type": "execute_result"
    }
   ],
   "source": [
    "        \"\"\"\n",
    "        SIR Zombie Model aka Zombie Apocalypse Model\n",
    "\n",
    "        s'(t) = h - beta*s*z - delta(s)*s\n",
    "        I'(t) = beta*s*z - ro*I - delta(I)*I\n",
    "        Z'(t) = ro*I -  alpha*s*z\n",
    "        D'(t) = delta(s)*s + delta(I)*I + alpha*s*z\n",
    "    \n",
    "    \n",
    "        s'(t): takes into account those who are suseptible to get infected with the zombie virus\n",
    "            h : number of humans we begin with\n",
    "            beta*s*z : Those infected with zombie virus\n",
    "            delta(s)*s : Those who are dead/killed\n",
    "            \n",
    "            \n",
    "        I'(t): Takes into account those are infected\n",
    "            ro*I : Number of infected rate\n",
    "            beta*s*z : Those infected with zombie virus\n",
    "            delta(I)*I : When people are killed/dead\n",
    "             \n",
    "    \n",
    "        Z'(t): Takes into account those are NOW zombies\n",
    "            ro*I : Number of infected rate\n",
    "            alpha*s*z : human and zombie interaction. Humans killing zombies\n",
    "            \n",
    "            \n",
    "        D'(t): Those who are dead\n",
    "            delta(s)*s : Those who are dead/killed\n",
    "            delta(I)*I : When people are killed/dead\n",
    "            alpha*s*z : human and zombie interaction. Humans killing zombies\n",
    "    \n",
    "        \"\"\"\n",
    "    "
   ]
  },
  {
   "cell_type": "code",
   "execution_count": 12,
   "metadata": {},
   "outputs": [
    {
     "ename": "TypeError",
     "evalue": "can't multiply sequence by non-int of type 'float'",
     "output_type": "error",
     "traceback": [
      "\u001b[0;31m---------------------------------------------------------------------------\u001b[0m",
      "\u001b[0;31mTypeError\u001b[0m                                 Traceback (most recent call last)",
      "\u001b[0;32m<ipython-input-12-3ec3dc3736c6>\u001b[0m in \u001b[0;36m<module>\u001b[0;34m\u001b[0m\n\u001b[1;32m     32\u001b[0m \u001b[0my0\u001b[0m\u001b[0;34m=\u001b[0m\u001b[0;34m[\u001b[0m\u001b[0mS0\u001b[0m\u001b[0;34m,\u001b[0m \u001b[0mI0\u001b[0m\u001b[0;34m,\u001b[0m \u001b[0mZ0\u001b[0m\u001b[0;34m,\u001b[0m \u001b[0mD0\u001b[0m\u001b[0;34m]\u001b[0m\u001b[0;34m\u001b[0m\u001b[0;34m\u001b[0m\u001b[0m\n\u001b[1;32m     33\u001b[0m \u001b[0;34m\u001b[0m\u001b[0m\n\u001b[0;32m---> 34\u001b[0;31m \u001b[0msolution\u001b[0m \u001b[0;34m=\u001b[0m \u001b[0msolve\u001b[0m\u001b[0;34m(\u001b[0m\u001b[0mf\u001b[0m\u001b[0;34m,\u001b[0m \u001b[0my0\u001b[0m\u001b[0;34m,\u001b[0m \u001b[0minterval\u001b[0m\u001b[0;34m,\u001b[0m \u001b[0msteps\u001b[0m\u001b[0;34m,\u001b[0m \u001b[0morder\u001b[0m\u001b[0;34m=\u001b[0m\u001b[0;36m4\u001b[0m\u001b[0;34m)\u001b[0m\u001b[0;34m\u001b[0m\u001b[0;34m\u001b[0m\u001b[0m\n\u001b[0m\u001b[1;32m     35\u001b[0m \u001b[0mS\u001b[0m\u001b[0;34m=\u001b[0m \u001b[0msolution\u001b[0m\u001b[0;34m[\u001b[0m\u001b[0;34m:\u001b[0m\u001b[0;34m,\u001b[0m \u001b[0;36m0\u001b[0m\u001b[0;34m]\u001b[0m\u001b[0;34m\u001b[0m\u001b[0;34m\u001b[0m\u001b[0m\n\u001b[1;32m     36\u001b[0m \u001b[0mI\u001b[0m\u001b[0;34m=\u001b[0m \u001b[0msolution\u001b[0m\u001b[0;34m[\u001b[0m\u001b[0;34m:\u001b[0m\u001b[0;34m,\u001b[0m \u001b[0;36m1\u001b[0m\u001b[0;34m]\u001b[0m\u001b[0;34m\u001b[0m\u001b[0;34m\u001b[0m\u001b[0m\n",
      "\u001b[0;32m<ipython-input-10-525643692699>\u001b[0m in \u001b[0;36msolve\u001b[0;34m(f, y0, interval, steps, order)\u001b[0m\n\u001b[1;32m     37\u001b[0m         \u001b[0;32mfor\u001b[0m \u001b[0mt\u001b[0m \u001b[0;32min\u001b[0m \u001b[0mtpoints\u001b[0m\u001b[0;34m:\u001b[0m\u001b[0;34m\u001b[0m\u001b[0;34m\u001b[0m\u001b[0m\n\u001b[1;32m     38\u001b[0m             \u001b[0mxpoints\u001b[0m\u001b[0;34m.\u001b[0m\u001b[0mappend\u001b[0m\u001b[0;34m(\u001b[0m\u001b[0mx\u001b[0m\u001b[0;34m)\u001b[0m\u001b[0;34m\u001b[0m\u001b[0;34m\u001b[0m\u001b[0m\n\u001b[0;32m---> 39\u001b[0;31m             \u001b[0mk1\u001b[0m \u001b[0;34m=\u001b[0m \u001b[0mh\u001b[0m\u001b[0;34m*\u001b[0m\u001b[0mf\u001b[0m\u001b[0;34m(\u001b[0m\u001b[0mx\u001b[0m\u001b[0;34m,\u001b[0m\u001b[0mt\u001b[0m\u001b[0;34m)\u001b[0m\u001b[0;34m\u001b[0m\u001b[0;34m\u001b[0m\u001b[0m\n\u001b[0m\u001b[1;32m     40\u001b[0m             \u001b[0mk2\u001b[0m \u001b[0;34m=\u001b[0m \u001b[0mh\u001b[0m\u001b[0;34m*\u001b[0m\u001b[0mf\u001b[0m\u001b[0;34m(\u001b[0m\u001b[0mx\u001b[0m\u001b[0;34m+\u001b[0m\u001b[0;36m0.5\u001b[0m\u001b[0;34m*\u001b[0m\u001b[0mk1\u001b[0m\u001b[0;34m,\u001b[0m\u001b[0mt\u001b[0m\u001b[0;34m+\u001b[0m\u001b[0;36m0.5\u001b[0m\u001b[0;34m*\u001b[0m\u001b[0mh\u001b[0m\u001b[0;34m)\u001b[0m\u001b[0;34m\u001b[0m\u001b[0;34m\u001b[0m\u001b[0m\n\u001b[1;32m     41\u001b[0m             \u001b[0mk3\u001b[0m \u001b[0;34m=\u001b[0m \u001b[0mh\u001b[0m\u001b[0;34m*\u001b[0m\u001b[0mf\u001b[0m\u001b[0;34m(\u001b[0m\u001b[0mx\u001b[0m\u001b[0;34m+\u001b[0m\u001b[0;36m0.5\u001b[0m\u001b[0;34m*\u001b[0m\u001b[0mk2\u001b[0m\u001b[0;34m,\u001b[0m\u001b[0mt\u001b[0m\u001b[0;34m+\u001b[0m\u001b[0;36m0.5\u001b[0m\u001b[0;34m*\u001b[0m\u001b[0mh\u001b[0m\u001b[0;34m)\u001b[0m\u001b[0;34m\u001b[0m\u001b[0;34m\u001b[0m\u001b[0m\n",
      "\u001b[0;31mTypeError\u001b[0m: can't multiply sequence by non-int of type 'float'"
     ]
    }
   ],
   "source": [
    "\n",
    "#desclare rage\n",
    "interval= [0,10]\n",
    "steps= 1000\n",
    "\n",
    "h=0           #rate at which people coming into the area/birth rate\n",
    "d= 0.001      #death rate\n",
    "beta= 0.001   #transmission rate\n",
    "ro =0.001     #percent of those who are infected become zombies\n",
    "alpha= 0.001\n",
    "\n",
    "\n",
    "def f(y, t, *args):\n",
    "    #initialize\n",
    "    Si=y[0]\n",
    "    Ii=y[1]\n",
    "    Zi=y[2]\n",
    "    Di=y[3]\n",
    "\n",
    "    f0= h - beta*Si*Zi - d*Si \n",
    "    f1= beta*Si*Zi - ro*Ii - d*Ii\n",
    "    f2= ro*Ii - alpha*Si*Zi\n",
    "    f3= d*Si + d*Ii + alpha*Si*Zi\n",
    "    \n",
    "    return [f0, f1, f2, f3]\n",
    "\n",
    "#initial conditions\n",
    "S0 = 100.     #initial Population\n",
    "I0=0.         #Initial infected population\n",
    "Z0=0.         #initial zombie population\n",
    "D0=0.         #Initial deaths\n",
    "\n",
    "y0=[S0, I0, Z0, D0]\n",
    "\n",
    "solution = solve(f, y0, interval, steps, order=4)\n",
    "S= solution[:, 0]\n",
    "I= solution[:, 1]\n",
    "Z= solution[:, 2]\n",
    "D= solution[:, 3]\n",
    "\n",
    "plt.figure()\n",
    "plt.plot(S, label='Living')\n",
    "plt.plot(Z, label='Zombies')\n"
   ]
  },
  {
   "cell_type": "code",
   "execution_count": null,
   "metadata": {},
   "outputs": [],
   "source": []
  }
 ],
 "metadata": {
  "kernelspec": {
   "display_name": "Python 3",
   "language": "python",
   "name": "python3"
  },
  "language_info": {
   "codemirror_mode": {
    "name": "ipython",
    "version": 3
   },
   "file_extension": ".py",
   "mimetype": "text/x-python",
   "name": "python",
   "nbconvert_exporter": "python",
   "pygments_lexer": "ipython3",
   "version": "3.7.4"
  }
 },
 "nbformat": 4,
 "nbformat_minor": 2
}
